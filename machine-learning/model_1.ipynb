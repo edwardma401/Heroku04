{
 "cells": [
  {
   "cell_type": "code",
   "execution_count": 83,
   "metadata": {},
   "outputs": [],
   "source": [
    "import pandas as pd\n",
    "import matplotlib.pyplot as plt"
   ]
  },
  {
   "cell_type": "code",
   "execution_count": 63,
   "metadata": {},
   "outputs": [],
   "source": [
    "df = pd.read_csv(\"covid_data.csv\")"
   ]
  },
  {
   "cell_type": "code",
   "execution_count": 64,
   "metadata": {},
   "outputs": [
    {
     "data": {
      "text/html": [
       "<div>\n",
       "<style scoped>\n",
       "    .dataframe tbody tr th:only-of-type {\n",
       "        vertical-align: middle;\n",
       "    }\n",
       "\n",
       "    .dataframe tbody tr th {\n",
       "        vertical-align: top;\n",
       "    }\n",
       "\n",
       "    .dataframe thead th {\n",
       "        text-align: right;\n",
       "    }\n",
       "</style>\n",
       "<table border=\"1\" class=\"dataframe\">\n",
       "  <thead>\n",
       "    <tr style=\"text-align: right;\">\n",
       "      <th></th>\n",
       "      <th>country</th>\n",
       "      <th>ISO2</th>\n",
       "      <th>ISO</th>\n",
       "      <th>slug</th>\n",
       "      <th>start_date</th>\n",
       "      <th>end_date</th>\n",
       "      <th>lable_end_date</th>\n",
       "      <th>active</th>\n",
       "      <th>new_cases_feature</th>\n",
       "      <th>new_cases_label</th>\n",
       "      <th>stringency_actual</th>\n",
       "      <th>population</th>\n",
       "      <th>gdp_per_capita</th>\n",
       "      <th>population_density</th>\n",
       "      <th>Urban_population</th>\n",
       "      <th>UHC_service_coverage_index</th>\n",
       "      <th>basic_sanitation_services</th>\n",
       "      <th>Population_ages_0_to_14</th>\n",
       "      <th>Population_ages_15_to_64</th>\n",
       "      <th>Population_ages_65_and_over</th>\n",
       "    </tr>\n",
       "  </thead>\n",
       "  <tbody>\n",
       "    <tr>\n",
       "      <th>0</th>\n",
       "      <td>Oman</td>\n",
       "      <td>OM</td>\n",
       "      <td>OMN</td>\n",
       "      <td>oman</td>\n",
       "      <td>2020-01-22</td>\n",
       "      <td>2020-02-11</td>\n",
       "      <td>2020-03-02</td>\n",
       "      <td>0</td>\n",
       "      <td>0</td>\n",
       "      <td>6</td>\n",
       "      <td>19.44</td>\n",
       "      <td>4974986.0</td>\n",
       "      <td>15474.032475</td>\n",
       "      <td>15.604145</td>\n",
       "      <td>85.443</td>\n",
       "      <td>69.0</td>\n",
       "      <td>99.999999</td>\n",
       "      <td>22.418395</td>\n",
       "      <td>75.133015</td>\n",
       "      <td>2.44859</td>\n",
       "    </tr>\n",
       "    <tr>\n",
       "      <th>1</th>\n",
       "      <td>Oman</td>\n",
       "      <td>OM</td>\n",
       "      <td>OMN</td>\n",
       "      <td>oman</td>\n",
       "      <td>2020-02-11</td>\n",
       "      <td>2020-03-02</td>\n",
       "      <td>2020-03-22</td>\n",
       "      <td>5</td>\n",
       "      <td>6</td>\n",
       "      <td>55</td>\n",
       "      <td>19.44</td>\n",
       "      <td>4974986.0</td>\n",
       "      <td>15474.032475</td>\n",
       "      <td>15.604145</td>\n",
       "      <td>85.443</td>\n",
       "      <td>69.0</td>\n",
       "      <td>99.999999</td>\n",
       "      <td>22.418395</td>\n",
       "      <td>75.133015</td>\n",
       "      <td>2.44859</td>\n",
       "    </tr>\n",
       "    <tr>\n",
       "      <th>2</th>\n",
       "      <td>Oman</td>\n",
       "      <td>OM</td>\n",
       "      <td>OMN</td>\n",
       "      <td>oman</td>\n",
       "      <td>2020-03-02</td>\n",
       "      <td>2020-03-22</td>\n",
       "      <td>2020-04-11</td>\n",
       "      <td>38</td>\n",
       "      <td>49</td>\n",
       "      <td>540</td>\n",
       "      <td>81.48</td>\n",
       "      <td>4974986.0</td>\n",
       "      <td>15474.032475</td>\n",
       "      <td>15.604145</td>\n",
       "      <td>85.443</td>\n",
       "      <td>69.0</td>\n",
       "      <td>99.999999</td>\n",
       "      <td>22.418395</td>\n",
       "      <td>75.133015</td>\n",
       "      <td>2.44859</td>\n",
       "    </tr>\n",
       "    <tr>\n",
       "      <th>3</th>\n",
       "      <td>Oman</td>\n",
       "      <td>OM</td>\n",
       "      <td>OMN</td>\n",
       "      <td>oman</td>\n",
       "      <td>2020-03-22</td>\n",
       "      <td>2020-04-11</td>\n",
       "      <td>2020-05-01</td>\n",
       "      <td>434</td>\n",
       "      <td>491</td>\n",
       "      <td>2392</td>\n",
       "      <td>92.59</td>\n",
       "      <td>4974986.0</td>\n",
       "      <td>15474.032475</td>\n",
       "      <td>15.604145</td>\n",
       "      <td>85.443</td>\n",
       "      <td>69.0</td>\n",
       "      <td>99.999999</td>\n",
       "      <td>22.418395</td>\n",
       "      <td>75.133015</td>\n",
       "      <td>2.44859</td>\n",
       "    </tr>\n",
       "    <tr>\n",
       "      <th>4</th>\n",
       "      <td>Oman</td>\n",
       "      <td>OM</td>\n",
       "      <td>OMN</td>\n",
       "      <td>oman</td>\n",
       "      <td>2020-04-11</td>\n",
       "      <td>2020-05-01</td>\n",
       "      <td>2020-05-21</td>\n",
       "      <td>1941</td>\n",
       "      <td>1901</td>\n",
       "      <td>5824</td>\n",
       "      <td>87.96</td>\n",
       "      <td>4974986.0</td>\n",
       "      <td>15474.032475</td>\n",
       "      <td>15.604145</td>\n",
       "      <td>85.443</td>\n",
       "      <td>69.0</td>\n",
       "      <td>99.999999</td>\n",
       "      <td>22.418395</td>\n",
       "      <td>75.133015</td>\n",
       "      <td>2.44859</td>\n",
       "    </tr>\n",
       "  </tbody>\n",
       "</table>\n",
       "</div>"
      ],
      "text/plain": [
       "  country ISO2  ISO  slug  start_date    end_date lable_end_date  active  \\\n",
       "0    Oman   OM  OMN  oman  2020-01-22  2020-02-11     2020-03-02       0   \n",
       "1    Oman   OM  OMN  oman  2020-02-11  2020-03-02     2020-03-22       5   \n",
       "2    Oman   OM  OMN  oman  2020-03-02  2020-03-22     2020-04-11      38   \n",
       "3    Oman   OM  OMN  oman  2020-03-22  2020-04-11     2020-05-01     434   \n",
       "4    Oman   OM  OMN  oman  2020-04-11  2020-05-01     2020-05-21    1941   \n",
       "\n",
       "   new_cases_feature  new_cases_label  stringency_actual  population  \\\n",
       "0                  0                6              19.44   4974986.0   \n",
       "1                  6               55              19.44   4974986.0   \n",
       "2                 49              540              81.48   4974986.0   \n",
       "3                491             2392              92.59   4974986.0   \n",
       "4               1901             5824              87.96   4974986.0   \n",
       "\n",
       "   gdp_per_capita  population_density  Urban_population  \\\n",
       "0    15474.032475           15.604145            85.443   \n",
       "1    15474.032475           15.604145            85.443   \n",
       "2    15474.032475           15.604145            85.443   \n",
       "3    15474.032475           15.604145            85.443   \n",
       "4    15474.032475           15.604145            85.443   \n",
       "\n",
       "   UHC_service_coverage_index  basic_sanitation_services  \\\n",
       "0                        69.0                  99.999999   \n",
       "1                        69.0                  99.999999   \n",
       "2                        69.0                  99.999999   \n",
       "3                        69.0                  99.999999   \n",
       "4                        69.0                  99.999999   \n",
       "\n",
       "   Population_ages_0_to_14  Population_ages_15_to_64  \\\n",
       "0                22.418395                 75.133015   \n",
       "1                22.418395                 75.133015   \n",
       "2                22.418395                 75.133015   \n",
       "3                22.418395                 75.133015   \n",
       "4                22.418395                 75.133015   \n",
       "\n",
       "   Population_ages_65_and_over  \n",
       "0                      2.44859  \n",
       "1                      2.44859  \n",
       "2                      2.44859  \n",
       "3                      2.44859  \n",
       "4                      2.44859  "
      ]
     },
     "execution_count": 64,
     "metadata": {},
     "output_type": "execute_result"
    }
   ],
   "source": [
    "df.head()"
   ]
  },
  {
   "cell_type": "code",
   "execution_count": 65,
   "metadata": {},
   "outputs": [],
   "source": [
    "X = df.drop([\"new_cases_label\",\"country\",\"ISO2\",\"slug\",\"start_date\",\"end_date\",\"lable_end_date\",\"ISO\" ]  , 1)\n",
    "y = df[\"new_cases_label\"]"
   ]
  },
  {
   "cell_type": "code",
   "execution_count": 79,
   "metadata": {},
   "outputs": [
    {
     "data": {
      "text/html": [
       "<div>\n",
       "<style scoped>\n",
       "    .dataframe tbody tr th:only-of-type {\n",
       "        vertical-align: middle;\n",
       "    }\n",
       "\n",
       "    .dataframe tbody tr th {\n",
       "        vertical-align: top;\n",
       "    }\n",
       "\n",
       "    .dataframe thead th {\n",
       "        text-align: right;\n",
       "    }\n",
       "</style>\n",
       "<table border=\"1\" class=\"dataframe\">\n",
       "  <thead>\n",
       "    <tr style=\"text-align: right;\">\n",
       "      <th></th>\n",
       "      <th>active</th>\n",
       "      <th>new_cases_feature</th>\n",
       "      <th>stringency_actual</th>\n",
       "      <th>population</th>\n",
       "      <th>gdp_per_capita</th>\n",
       "      <th>population_density</th>\n",
       "      <th>Urban_population</th>\n",
       "      <th>UHC_service_coverage_index</th>\n",
       "      <th>basic_sanitation_services</th>\n",
       "      <th>Population_ages_0_to_14</th>\n",
       "      <th>Population_ages_15_to_64</th>\n",
       "      <th>Population_ages_65_and_over</th>\n",
       "    </tr>\n",
       "  </thead>\n",
       "  <tbody>\n",
       "    <tr>\n",
       "      <th>0</th>\n",
       "      <td>0</td>\n",
       "      <td>0</td>\n",
       "      <td>19.44</td>\n",
       "      <td>4974986.0</td>\n",
       "      <td>15474.032475</td>\n",
       "      <td>15.604145</td>\n",
       "      <td>85.443</td>\n",
       "      <td>69.0</td>\n",
       "      <td>99.999999</td>\n",
       "      <td>22.418395</td>\n",
       "      <td>75.133015</td>\n",
       "      <td>2.44859</td>\n",
       "    </tr>\n",
       "    <tr>\n",
       "      <th>1</th>\n",
       "      <td>5</td>\n",
       "      <td>6</td>\n",
       "      <td>19.44</td>\n",
       "      <td>4974986.0</td>\n",
       "      <td>15474.032475</td>\n",
       "      <td>15.604145</td>\n",
       "      <td>85.443</td>\n",
       "      <td>69.0</td>\n",
       "      <td>99.999999</td>\n",
       "      <td>22.418395</td>\n",
       "      <td>75.133015</td>\n",
       "      <td>2.44859</td>\n",
       "    </tr>\n",
       "    <tr>\n",
       "      <th>2</th>\n",
       "      <td>38</td>\n",
       "      <td>49</td>\n",
       "      <td>81.48</td>\n",
       "      <td>4974986.0</td>\n",
       "      <td>15474.032475</td>\n",
       "      <td>15.604145</td>\n",
       "      <td>85.443</td>\n",
       "      <td>69.0</td>\n",
       "      <td>99.999999</td>\n",
       "      <td>22.418395</td>\n",
       "      <td>75.133015</td>\n",
       "      <td>2.44859</td>\n",
       "    </tr>\n",
       "    <tr>\n",
       "      <th>3</th>\n",
       "      <td>434</td>\n",
       "      <td>491</td>\n",
       "      <td>92.59</td>\n",
       "      <td>4974986.0</td>\n",
       "      <td>15474.032475</td>\n",
       "      <td>15.604145</td>\n",
       "      <td>85.443</td>\n",
       "      <td>69.0</td>\n",
       "      <td>99.999999</td>\n",
       "      <td>22.418395</td>\n",
       "      <td>75.133015</td>\n",
       "      <td>2.44859</td>\n",
       "    </tr>\n",
       "    <tr>\n",
       "      <th>4</th>\n",
       "      <td>1941</td>\n",
       "      <td>1901</td>\n",
       "      <td>87.96</td>\n",
       "      <td>4974986.0</td>\n",
       "      <td>15474.032475</td>\n",
       "      <td>15.604145</td>\n",
       "      <td>85.443</td>\n",
       "      <td>69.0</td>\n",
       "      <td>99.999999</td>\n",
       "      <td>22.418395</td>\n",
       "      <td>75.133015</td>\n",
       "      <td>2.44859</td>\n",
       "    </tr>\n",
       "  </tbody>\n",
       "</table>\n",
       "</div>"
      ],
      "text/plain": [
       "   active  new_cases_feature  stringency_actual  population  gdp_per_capita  \\\n",
       "0       0                  0              19.44   4974986.0    15474.032475   \n",
       "1       5                  6              19.44   4974986.0    15474.032475   \n",
       "2      38                 49              81.48   4974986.0    15474.032475   \n",
       "3     434                491              92.59   4974986.0    15474.032475   \n",
       "4    1941               1901              87.96   4974986.0    15474.032475   \n",
       "\n",
       "   population_density  Urban_population  UHC_service_coverage_index  \\\n",
       "0           15.604145            85.443                        69.0   \n",
       "1           15.604145            85.443                        69.0   \n",
       "2           15.604145            85.443                        69.0   \n",
       "3           15.604145            85.443                        69.0   \n",
       "4           15.604145            85.443                        69.0   \n",
       "\n",
       "   basic_sanitation_services  Population_ages_0_to_14  \\\n",
       "0                  99.999999                22.418395   \n",
       "1                  99.999999                22.418395   \n",
       "2                  99.999999                22.418395   \n",
       "3                  99.999999                22.418395   \n",
       "4                  99.999999                22.418395   \n",
       "\n",
       "   Population_ages_15_to_64  Population_ages_65_and_over  \n",
       "0                 75.133015                      2.44859  \n",
       "1                 75.133015                      2.44859  \n",
       "2                 75.133015                      2.44859  \n",
       "3                 75.133015                      2.44859  \n",
       "4                 75.133015                      2.44859  "
      ]
     },
     "execution_count": 79,
     "metadata": {},
     "output_type": "execute_result"
    }
   ],
   "source": [
    "X.head()"
   ]
  },
  {
   "cell_type": "code",
   "execution_count": 66,
   "metadata": {},
   "outputs": [],
   "source": [
    "y = y.values.reshape(-1,1)"
   ]
  },
  {
   "cell_type": "code",
   "execution_count": 67,
   "metadata": {},
   "outputs": [],
   "source": [
    "from sklearn.model_selection import train_test_split\n",
    "X_train, X_test, y_train, y_test = train_test_split(X, y, random_state=42)"
   ]
  },
  {
   "cell_type": "code",
   "execution_count": 68,
   "metadata": {},
   "outputs": [],
   "source": [
    "# Scale your data\n",
    "from sklearn.preprocessing import StandardScaler\n",
    "X_minmax = StandardScaler().fit(X_train)\n",
    "y_minmax = StandardScaler().fit(y_train)\n",
    "\n",
    "\n",
    "X_train_minmax = X_minmax.transform(X_train)\n",
    "X_test_minmax = X_minmax.transform(X_test)\n",
    "\n",
    "\n",
    "y_train_minmax = y_minmax.transform(y_train)\n",
    "y_test_minmax = y_minmax.transform(y_test)\n"
   ]
  },
  {
   "cell_type": "code",
   "execution_count": 70,
   "metadata": {},
   "outputs": [
    {
     "name": "stdout",
     "output_type": "stream",
     "text": [
      "R2 Score: 0.9719773023423159\n"
     ]
    }
   ],
   "source": [
    "from sklearn.linear_model import LinearRegression\n",
    "\n",
    "model = LinearRegression()\n",
    "\n",
    "model.fit(X_train_minmax, y_train_minmax)\n",
    "\n",
    "score = model.score(X_train_minmax, y_train_minmax)\n",
    "print(f\"R2 Score: {score}\")"
   ]
  },
  {
   "cell_type": "code",
   "execution_count": 78,
   "metadata": {},
   "outputs": [
    {
     "data": {
      "text/plain": [
       "array([[ 4.85093622e-02,  9.37921040e-01,  3.67980968e-03,\n",
       "         2.80510209e-02,  4.77046637e-03, -2.55160285e-03,\n",
       "         5.71762603e-03, -2.06640709e-04,  1.16271758e-03,\n",
       "        -3.90961980e+11, -2.33232308e+11, -2.49352420e+11]])"
      ]
     },
     "execution_count": 78,
     "metadata": {},
     "output_type": "execute_result"
    }
   ],
   "source": [
    "model.coef_"
   ]
  },
  {
   "cell_type": "code",
   "execution_count": 72,
   "metadata": {},
   "outputs": [
    {
     "name": "stdout",
     "output_type": "stream",
     "text": [
      "R2 Score: 0.9743719362341491\n"
     ]
    }
   ],
   "source": [
    "score = model.score(X_test_minmax, y_test_minmax)\n",
    "print(f\"R2 Score: {score}\")"
   ]
  },
  {
   "cell_type": "code",
   "execution_count": 74,
   "metadata": {},
   "outputs": [
    {
     "data": {
      "text/plain": [
       "{'copy_X': True, 'fit_intercept': True, 'n_jobs': None, 'normalize': False}"
      ]
     },
     "execution_count": 74,
     "metadata": {},
     "output_type": "execute_result"
    }
   ],
   "source": [
    "model.get_params(deep=True)"
   ]
  },
  {
   "cell_type": "code",
   "execution_count": 85,
   "metadata": {},
   "outputs": [
    {
     "data": {
      "text/plain": [
       "['Regresssion.sav']"
      ]
     },
     "execution_count": 85,
     "metadata": {},
     "output_type": "execute_result"
    }
   ],
   "source": [
    "import joblib\n",
    "filename = 'Regresssion.sav'\n",
    "joblib.dump(model, filename)"
   ]
  },
  {
   "cell_type": "code",
   "execution_count": null,
   "metadata": {},
   "outputs": [],
   "source": []
  }
 ],
 "metadata": {
  "kernelspec": {
   "display_name": "Python 3",
   "language": "python",
   "name": "python3"
  },
  "language_info": {
   "codemirror_mode": {
    "name": "ipython",
    "version": 3
   },
   "file_extension": ".py",
   "mimetype": "text/x-python",
   "name": "python",
   "nbconvert_exporter": "python",
   "pygments_lexer": "ipython3",
   "version": "3.6.10"
  }
 },
 "nbformat": 4,
 "nbformat_minor": 4
}

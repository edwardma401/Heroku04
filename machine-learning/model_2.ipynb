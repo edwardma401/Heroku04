{
 "cells": [
  {
   "cell_type": "code",
   "execution_count": 1,
   "metadata": {},
   "outputs": [],
   "source": [
    "import pandas as pd\n",
    "import matplotlib.pyplot as plt"
   ]
  },
  {
   "cell_type": "code",
   "execution_count": 2,
   "metadata": {},
   "outputs": [],
   "source": [
    "df = pd.read_csv(\"covid_data_v2.csv\")"
   ]
  },
  {
   "cell_type": "code",
   "execution_count": 3,
   "metadata": {},
   "outputs": [
    {
     "data": {
      "text/html": [
       "<div>\n",
       "<style scoped>\n",
       "    .dataframe tbody tr th:only-of-type {\n",
       "        vertical-align: middle;\n",
       "    }\n",
       "\n",
       "    .dataframe tbody tr th {\n",
       "        vertical-align: top;\n",
       "    }\n",
       "\n",
       "    .dataframe thead th {\n",
       "        text-align: right;\n",
       "    }\n",
       "</style>\n",
       "<table border=\"1\" class=\"dataframe\">\n",
       "  <thead>\n",
       "    <tr style=\"text-align: right;\">\n",
       "      <th></th>\n",
       "      <th>country</th>\n",
       "      <th>ISO2</th>\n",
       "      <th>ISO</th>\n",
       "      <th>slug</th>\n",
       "      <th>start_date</th>\n",
       "      <th>end_date</th>\n",
       "      <th>lable_end_date</th>\n",
       "      <th>active</th>\n",
       "      <th>new_cases_feature</th>\n",
       "      <th>new_cases_label</th>\n",
       "      <th>stringency_actual</th>\n",
       "      <th>population</th>\n",
       "      <th>gdp_per_capita</th>\n",
       "      <th>population_density</th>\n",
       "      <th>Urban_population</th>\n",
       "      <th>UHC_service_coverage_index</th>\n",
       "      <th>basic_sanitation_services</th>\n",
       "      <th>Population_ages_0_to_14</th>\n",
       "      <th>Population_ages_15_to_64</th>\n",
       "      <th>Population_ages_65_and_over</th>\n",
       "    </tr>\n",
       "  </thead>\n",
       "  <tbody>\n",
       "    <tr>\n",
       "      <th>0</th>\n",
       "      <td>Fiji</td>\n",
       "      <td>FJ</td>\n",
       "      <td>FJI</td>\n",
       "      <td>fiji</td>\n",
       "      <td>2020-01-22</td>\n",
       "      <td>2020-02-11</td>\n",
       "      <td>2020-03-02</td>\n",
       "      <td>0</td>\n",
       "      <td>0</td>\n",
       "      <td>0</td>\n",
       "      <td>19.44</td>\n",
       "      <td>889953.0</td>\n",
       "      <td>6220.046421</td>\n",
       "      <td>48.357033</td>\n",
       "      <td>56.248</td>\n",
       "      <td>64.0</td>\n",
       "      <td>95.072175</td>\n",
       "      <td>29.293682</td>\n",
       "      <td>65.082089</td>\n",
       "      <td>5.62423</td>\n",
       "    </tr>\n",
       "    <tr>\n",
       "      <th>1</th>\n",
       "      <td>Fiji</td>\n",
       "      <td>FJ</td>\n",
       "      <td>FJI</td>\n",
       "      <td>fiji</td>\n",
       "      <td>2020-02-11</td>\n",
       "      <td>2020-03-02</td>\n",
       "      <td>2020-03-22</td>\n",
       "      <td>0</td>\n",
       "      <td>0</td>\n",
       "      <td>2</td>\n",
       "      <td>19.44</td>\n",
       "      <td>889953.0</td>\n",
       "      <td>6220.046421</td>\n",
       "      <td>48.357033</td>\n",
       "      <td>56.248</td>\n",
       "      <td>64.0</td>\n",
       "      <td>95.072175</td>\n",
       "      <td>29.293682</td>\n",
       "      <td>65.082089</td>\n",
       "      <td>5.62423</td>\n",
       "    </tr>\n",
       "    <tr>\n",
       "      <th>2</th>\n",
       "      <td>Fiji</td>\n",
       "      <td>FJ</td>\n",
       "      <td>FJI</td>\n",
       "      <td>fiji</td>\n",
       "      <td>2020-03-02</td>\n",
       "      <td>2020-03-22</td>\n",
       "      <td>2020-04-11</td>\n",
       "      <td>2</td>\n",
       "      <td>2</td>\n",
       "      <td>16</td>\n",
       "      <td>79.63</td>\n",
       "      <td>889953.0</td>\n",
       "      <td>6220.046421</td>\n",
       "      <td>48.357033</td>\n",
       "      <td>56.248</td>\n",
       "      <td>64.0</td>\n",
       "      <td>95.072175</td>\n",
       "      <td>29.293682</td>\n",
       "      <td>65.082089</td>\n",
       "      <td>5.62423</td>\n",
       "    </tr>\n",
       "    <tr>\n",
       "      <th>3</th>\n",
       "      <td>Fiji</td>\n",
       "      <td>FJ</td>\n",
       "      <td>FJI</td>\n",
       "      <td>fiji</td>\n",
       "      <td>2020-03-22</td>\n",
       "      <td>2020-04-11</td>\n",
       "      <td>2020-05-01</td>\n",
       "      <td>16</td>\n",
       "      <td>14</td>\n",
       "      <td>16</td>\n",
       "      <td>88.89</td>\n",
       "      <td>889953.0</td>\n",
       "      <td>6220.046421</td>\n",
       "      <td>48.357033</td>\n",
       "      <td>56.248</td>\n",
       "      <td>64.0</td>\n",
       "      <td>95.072175</td>\n",
       "      <td>29.293682</td>\n",
       "      <td>65.082089</td>\n",
       "      <td>5.62423</td>\n",
       "    </tr>\n",
       "    <tr>\n",
       "      <th>4</th>\n",
       "      <td>Fiji</td>\n",
       "      <td>FJ</td>\n",
       "      <td>FJI</td>\n",
       "      <td>fiji</td>\n",
       "      <td>2020-04-11</td>\n",
       "      <td>2020-05-01</td>\n",
       "      <td>2020-05-21</td>\n",
       "      <td>6</td>\n",
       "      <td>2</td>\n",
       "      <td>2</td>\n",
       "      <td>88.89</td>\n",
       "      <td>889953.0</td>\n",
       "      <td>6220.046421</td>\n",
       "      <td>48.357033</td>\n",
       "      <td>56.248</td>\n",
       "      <td>64.0</td>\n",
       "      <td>95.072175</td>\n",
       "      <td>29.293682</td>\n",
       "      <td>65.082089</td>\n",
       "      <td>5.62423</td>\n",
       "    </tr>\n",
       "  </tbody>\n",
       "</table>\n",
       "</div>"
      ],
      "text/plain": [
       "  country ISO2  ISO  slug  start_date    end_date lable_end_date  active  \\\n",
       "0    Fiji   FJ  FJI  fiji  2020-01-22  2020-02-11     2020-03-02       0   \n",
       "1    Fiji   FJ  FJI  fiji  2020-02-11  2020-03-02     2020-03-22       0   \n",
       "2    Fiji   FJ  FJI  fiji  2020-03-02  2020-03-22     2020-04-11       2   \n",
       "3    Fiji   FJ  FJI  fiji  2020-03-22  2020-04-11     2020-05-01      16   \n",
       "4    Fiji   FJ  FJI  fiji  2020-04-11  2020-05-01     2020-05-21       6   \n",
       "\n",
       "   new_cases_feature  new_cases_label  stringency_actual  population  \\\n",
       "0                  0                0              19.44    889953.0   \n",
       "1                  0                2              19.44    889953.0   \n",
       "2                  2               16              79.63    889953.0   \n",
       "3                 14               16              88.89    889953.0   \n",
       "4                  2                2              88.89    889953.0   \n",
       "\n",
       "   gdp_per_capita  population_density  Urban_population  \\\n",
       "0     6220.046421           48.357033            56.248   \n",
       "1     6220.046421           48.357033            56.248   \n",
       "2     6220.046421           48.357033            56.248   \n",
       "3     6220.046421           48.357033            56.248   \n",
       "4     6220.046421           48.357033            56.248   \n",
       "\n",
       "   UHC_service_coverage_index  basic_sanitation_services  \\\n",
       "0                        64.0                  95.072175   \n",
       "1                        64.0                  95.072175   \n",
       "2                        64.0                  95.072175   \n",
       "3                        64.0                  95.072175   \n",
       "4                        64.0                  95.072175   \n",
       "\n",
       "   Population_ages_0_to_14  Population_ages_15_to_64  \\\n",
       "0                29.293682                 65.082089   \n",
       "1                29.293682                 65.082089   \n",
       "2                29.293682                 65.082089   \n",
       "3                29.293682                 65.082089   \n",
       "4                29.293682                 65.082089   \n",
       "\n",
       "   Population_ages_65_and_over  \n",
       "0                      5.62423  \n",
       "1                      5.62423  \n",
       "2                      5.62423  \n",
       "3                      5.62423  \n",
       "4                      5.62423  "
      ]
     },
     "execution_count": 3,
     "metadata": {},
     "output_type": "execute_result"
    }
   ],
   "source": [
    "df.head()"
   ]
  },
  {
   "cell_type": "code",
   "execution_count": 4,
   "metadata": {},
   "outputs": [],
   "source": [
    "X = df.drop([\"new_cases_label\",\"country\",\"ISO2\",\"slug\",\"start_date\",\"end_date\",\"lable_end_date\",\"ISO\" ]  , 1)\n",
    "y = df[\"new_cases_label\"]"
   ]
  },
  {
   "cell_type": "code",
   "execution_count": 5,
   "metadata": {},
   "outputs": [],
   "source": [
    "y = y.values.reshape(-1,1)"
   ]
  },
  {
   "cell_type": "code",
   "execution_count": 6,
   "metadata": {},
   "outputs": [],
   "source": [
    "from sklearn.model_selection import train_test_split\n",
    "X_train, X_test, y_train, y_test = train_test_split(X, y, random_state=42)"
   ]
  },
  {
   "cell_type": "code",
   "execution_count": 37,
   "metadata": {},
   "outputs": [
    {
     "data": {
      "text/html": [
       "<div>\n",
       "<style scoped>\n",
       "    .dataframe tbody tr th:only-of-type {\n",
       "        vertical-align: middle;\n",
       "    }\n",
       "\n",
       "    .dataframe tbody tr th {\n",
       "        vertical-align: top;\n",
       "    }\n",
       "\n",
       "    .dataframe thead th {\n",
       "        text-align: right;\n",
       "    }\n",
       "</style>\n",
       "<table border=\"1\" class=\"dataframe\">\n",
       "  <thead>\n",
       "    <tr style=\"text-align: right;\">\n",
       "      <th></th>\n",
       "      <th>active</th>\n",
       "      <th>new_cases_feature</th>\n",
       "      <th>stringency_actual</th>\n",
       "      <th>population</th>\n",
       "      <th>gdp_per_capita</th>\n",
       "      <th>population_density</th>\n",
       "      <th>Urban_population</th>\n",
       "      <th>UHC_service_coverage_index</th>\n",
       "      <th>basic_sanitation_services</th>\n",
       "      <th>Population_ages_0_to_14</th>\n",
       "      <th>Population_ages_15_to_64</th>\n",
       "      <th>Population_ages_65_and_over</th>\n",
       "    </tr>\n",
       "  </thead>\n",
       "  <tbody>\n",
       "    <tr>\n",
       "      <th>5128</th>\n",
       "      <td>993</td>\n",
       "      <td>1117</td>\n",
       "      <td>53.70</td>\n",
       "      <td>361313.0</td>\n",
       "      <td>66944.825508</td>\n",
       "      <td>3.518414</td>\n",
       "      <td>93.813</td>\n",
       "      <td>84.0</td>\n",
       "      <td>98.782168</td>\n",
       "      <td>19.647171</td>\n",
       "      <td>65.160708</td>\n",
       "      <td>15.192121</td>\n",
       "    </tr>\n",
       "    <tr>\n",
       "      <th>7153</th>\n",
       "      <td>0</td>\n",
       "      <td>0</td>\n",
       "      <td>19.44</td>\n",
       "      <td>6453553.0</td>\n",
       "      <td>4187.250031</td>\n",
       "      <td>309.881467</td>\n",
       "      <td>72.023</td>\n",
       "      <td>76.0</td>\n",
       "      <td>87.433567</td>\n",
       "      <td>26.858445</td>\n",
       "      <td>64.671972</td>\n",
       "      <td>8.469583</td>\n",
       "    </tr>\n",
       "    <tr>\n",
       "      <th>4508</th>\n",
       "      <td>1003</td>\n",
       "      <td>1137</td>\n",
       "      <td>41.20</td>\n",
       "      <td>8574832.0</td>\n",
       "      <td>81993.727149</td>\n",
       "      <td>215.465350</td>\n",
       "      <td>73.797</td>\n",
       "      <td>83.0</td>\n",
       "      <td>99.890374</td>\n",
       "      <td>14.940676</td>\n",
       "      <td>66.221328</td>\n",
       "      <td>18.837996</td>\n",
       "    </tr>\n",
       "    <tr>\n",
       "      <th>7415</th>\n",
       "      <td>244839</td>\n",
       "      <td>13043</td>\n",
       "      <td>69.91</td>\n",
       "      <td>66834405.0</td>\n",
       "      <td>42300.267126</td>\n",
       "      <td>274.708982</td>\n",
       "      <td>83.398</td>\n",
       "      <td>87.0</td>\n",
       "      <td>99.110295</td>\n",
       "      <td>17.695701</td>\n",
       "      <td>63.795604</td>\n",
       "      <td>18.508696</td>\n",
       "    </tr>\n",
       "    <tr>\n",
       "      <th>1010</th>\n",
       "      <td>610</td>\n",
       "      <td>629</td>\n",
       "      <td>89.35</td>\n",
       "      <td>18513930.0</td>\n",
       "      <td>9731.145207</td>\n",
       "      <td>6.769826</td>\n",
       "      <td>57.428</td>\n",
       "      <td>76.0</td>\n",
       "      <td>97.873702</td>\n",
       "      <td>28.881250</td>\n",
       "      <td>63.466406</td>\n",
       "      <td>7.652344</td>\n",
       "    </tr>\n",
       "  </tbody>\n",
       "</table>\n",
       "</div>"
      ],
      "text/plain": [
       "      active  new_cases_feature  stringency_actual  population  \\\n",
       "5128     993               1117              53.70    361313.0   \n",
       "7153       0                  0              19.44   6453553.0   \n",
       "4508    1003               1137              41.20   8574832.0   \n",
       "7415  244839              13043              69.91  66834405.0   \n",
       "1010     610                629              89.35  18513930.0   \n",
       "\n",
       "      gdp_per_capita  population_density  Urban_population  \\\n",
       "5128    66944.825508            3.518414            93.813   \n",
       "7153     4187.250031          309.881467            72.023   \n",
       "4508    81993.727149          215.465350            73.797   \n",
       "7415    42300.267126          274.708982            83.398   \n",
       "1010     9731.145207            6.769826            57.428   \n",
       "\n",
       "      UHC_service_coverage_index  basic_sanitation_services  \\\n",
       "5128                        84.0                  98.782168   \n",
       "7153                        76.0                  87.433567   \n",
       "4508                        83.0                  99.890374   \n",
       "7415                        87.0                  99.110295   \n",
       "1010                        76.0                  97.873702   \n",
       "\n",
       "      Population_ages_0_to_14  Population_ages_15_to_64  \\\n",
       "5128                19.647171                 65.160708   \n",
       "7153                26.858445                 64.671972   \n",
       "4508                14.940676                 66.221328   \n",
       "7415                17.695701                 63.795604   \n",
       "1010                28.881250                 63.466406   \n",
       "\n",
       "      Population_ages_65_and_over  \n",
       "5128                    15.192121  \n",
       "7153                     8.469583  \n",
       "4508                    18.837996  \n",
       "7415                    18.508696  \n",
       "1010                     7.652344  "
      ]
     },
     "execution_count": 37,
     "metadata": {},
     "output_type": "execute_result"
    }
   ],
   "source": [
    "X_train.head()"
   ]
  },
  {
   "cell_type": "code",
   "execution_count": 7,
   "metadata": {},
   "outputs": [],
   "source": [
    "# Scale your data\n",
    "from sklearn.preprocessing import StandardScaler\n",
    "X_minmax = StandardScaler().fit(X_train)\n",
    "y_minmax = StandardScaler().fit(y_train)\n",
    "\n",
    "\n",
    "X_train_minmax = X_minmax.transform(X_train)\n",
    "X_test_minmax = X_minmax.transform(X_test)\n",
    "\n",
    "\n",
    "y_train_minmax = y_minmax.transform(y_train)\n",
    "y_test_minmax = y_minmax.transform(y_test)\n"
   ]
  },
  {
   "cell_type": "code",
   "execution_count": 8,
   "metadata": {},
   "outputs": [
    {
     "name": "stdout",
     "output_type": "stream",
     "text": [
      "R2 Score: 0.9977983564911012\n"
     ]
    }
   ],
   "source": [
    "from sklearn.ensemble import RandomForestRegressor\n",
    "\n",
    "regr = RandomForestRegressor(random_state=0)\n",
    "\n",
    "regr.fit(X_train_minmax, y_train_minmax.ravel())\n",
    "\n",
    "score = regr.score(X_train_minmax, y_train_minmax)\n",
    "print(f\"R2 Score: {score}\")\n"
   ]
  },
  {
   "cell_type": "code",
   "execution_count": 9,
   "metadata": {},
   "outputs": [
    {
     "name": "stdout",
     "output_type": "stream",
     "text": [
      "R2 Score: 0.9881056313964731\n"
     ]
    }
   ],
   "source": [
    "score = regr.score(X_test_minmax, y_test_minmax)\n",
    "print(f\"R2 Score: {score}\")"
   ]
  },
  {
   "cell_type": "code",
   "execution_count": 10,
   "metadata": {},
   "outputs": [
    {
     "data": {
      "text/html": [
       "<div>\n",
       "<style scoped>\n",
       "    .dataframe tbody tr th:only-of-type {\n",
       "        vertical-align: middle;\n",
       "    }\n",
       "\n",
       "    .dataframe tbody tr th {\n",
       "        vertical-align: top;\n",
       "    }\n",
       "\n",
       "    .dataframe thead th {\n",
       "        text-align: right;\n",
       "    }\n",
       "</style>\n",
       "<table border=\"1\" class=\"dataframe\">\n",
       "  <thead>\n",
       "    <tr style=\"text-align: right;\">\n",
       "      <th></th>\n",
       "      <th>feature_name</th>\n",
       "      <th>feature_importances</th>\n",
       "    </tr>\n",
       "  </thead>\n",
       "  <tbody>\n",
       "    <tr>\n",
       "      <th>0</th>\n",
       "      <td>active</td>\n",
       "      <td>0.760116</td>\n",
       "    </tr>\n",
       "    <tr>\n",
       "      <th>1</th>\n",
       "      <td>new_cases_feature</td>\n",
       "      <td>97.435884</td>\n",
       "    </tr>\n",
       "    <tr>\n",
       "      <th>2</th>\n",
       "      <td>stringency_actual</td>\n",
       "      <td>0.916139</td>\n",
       "    </tr>\n",
       "    <tr>\n",
       "      <th>3</th>\n",
       "      <td>population</td>\n",
       "      <td>0.240605</td>\n",
       "    </tr>\n",
       "    <tr>\n",
       "      <th>4</th>\n",
       "      <td>gdp_per_capita</td>\n",
       "      <td>0.146984</td>\n",
       "    </tr>\n",
       "    <tr>\n",
       "      <th>5</th>\n",
       "      <td>population_density</td>\n",
       "      <td>0.088295</td>\n",
       "    </tr>\n",
       "    <tr>\n",
       "      <th>6</th>\n",
       "      <td>Urban_population</td>\n",
       "      <td>0.154009</td>\n",
       "    </tr>\n",
       "    <tr>\n",
       "      <th>7</th>\n",
       "      <td>UHC_service_coverage_index</td>\n",
       "      <td>0.041500</td>\n",
       "    </tr>\n",
       "    <tr>\n",
       "      <th>8</th>\n",
       "      <td>basic_sanitation_services</td>\n",
       "      <td>0.031790</td>\n",
       "    </tr>\n",
       "    <tr>\n",
       "      <th>9</th>\n",
       "      <td>Population_ages_0_to_14</td>\n",
       "      <td>0.046782</td>\n",
       "    </tr>\n",
       "    <tr>\n",
       "      <th>10</th>\n",
       "      <td>Population_ages_15_to_64</td>\n",
       "      <td>0.070430</td>\n",
       "    </tr>\n",
       "    <tr>\n",
       "      <th>11</th>\n",
       "      <td>Population_ages_65_and_over</td>\n",
       "      <td>0.067467</td>\n",
       "    </tr>\n",
       "  </tbody>\n",
       "</table>\n",
       "</div>"
      ],
      "text/plain": [
       "                   feature_name  feature_importances\n",
       "0                        active             0.760116\n",
       "1             new_cases_feature            97.435884\n",
       "2             stringency_actual             0.916139\n",
       "3                    population             0.240605\n",
       "4                gdp_per_capita             0.146984\n",
       "5            population_density             0.088295\n",
       "6              Urban_population             0.154009\n",
       "7    UHC_service_coverage_index             0.041500\n",
       "8     basic_sanitation_services             0.031790\n",
       "9       Population_ages_0_to_14             0.046782\n",
       "10     Population_ages_15_to_64             0.070430\n",
       "11  Population_ages_65_and_over             0.067467"
      ]
     },
     "execution_count": 10,
     "metadata": {},
     "output_type": "execute_result"
    }
   ],
   "source": [
    "feature_importances = pd.DataFrame({\"feature_name\" : list(X.columns), \"feature_importances\": list(regr.feature_importances_)})\n",
    "feature_importances[\"feature_importances\"] = feature_importances[\"feature_importances\"]*100\n",
    "feature_importances"
   ]
  },
  {
   "cell_type": "code",
   "execution_count": 11,
   "metadata": {},
   "outputs": [
    {
     "data": {
      "text/plain": [
       "['RandomForestRegressor.sav']"
      ]
     },
     "execution_count": 11,
     "metadata": {},
     "output_type": "execute_result"
    }
   ],
   "source": [
    "import joblib\n",
    "filename = 'RandomForestRegressor.sav'\n",
    "joblib.dump(regr, filename)"
   ]
  },
  {
   "cell_type": "code",
   "execution_count": 31,
   "metadata": {},
   "outputs": [],
   "source": [
    "data_for_prediction = pd.read_csv(\"data_for_predection.csv\")"
   ]
  },
  {
   "cell_type": "code",
   "execution_count": 35,
   "metadata": {},
   "outputs": [],
   "source": [
    "X_values = data_for_prediction.drop([\"country\",\"ISO2\",\"slug\",\"start_date\",\"end_date\",\"ISO\" ]  , 1)"
   ]
  },
  {
   "cell_type": "code",
   "execution_count": 36,
   "metadata": {},
   "outputs": [
    {
     "data": {
      "text/html": [
       "<div>\n",
       "<style scoped>\n",
       "    .dataframe tbody tr th:only-of-type {\n",
       "        vertical-align: middle;\n",
       "    }\n",
       "\n",
       "    .dataframe tbody tr th {\n",
       "        vertical-align: top;\n",
       "    }\n",
       "\n",
       "    .dataframe thead th {\n",
       "        text-align: right;\n",
       "    }\n",
       "</style>\n",
       "<table border=\"1\" class=\"dataframe\">\n",
       "  <thead>\n",
       "    <tr style=\"text-align: right;\">\n",
       "      <th></th>\n",
       "      <th>active</th>\n",
       "      <th>new_cases_feature</th>\n",
       "      <th>stringency_actual</th>\n",
       "      <th>population</th>\n",
       "      <th>gdp_per_capita</th>\n",
       "      <th>population_density</th>\n",
       "      <th>Urban_population</th>\n",
       "      <th>UHC_service_coverage_index</th>\n",
       "      <th>basic_sanitation_services</th>\n",
       "      <th>Population_ages_0_to_14</th>\n",
       "      <th>Population_ages_15_to_64</th>\n",
       "      <th>Population_ages_65_and_over</th>\n",
       "    </tr>\n",
       "  </thead>\n",
       "  <tbody>\n",
       "    <tr>\n",
       "      <th>0</th>\n",
       "      <td>8513</td>\n",
       "      <td>6573</td>\n",
       "      <td>37.04</td>\n",
       "      <td>4974986</td>\n",
       "      <td>15474.032475</td>\n",
       "      <td>15.604145</td>\n",
       "      <td>85.443</td>\n",
       "      <td>69</td>\n",
       "      <td>99.999999</td>\n",
       "      <td>22.418395</td>\n",
       "      <td>75.133015</td>\n",
       "      <td>2.448590</td>\n",
       "    </tr>\n",
       "    <tr>\n",
       "      <th>1</th>\n",
       "      <td>512665</td>\n",
       "      <td>910691</td>\n",
       "      <td>61.57</td>\n",
       "      <td>1366417754</td>\n",
       "      <td>2104.145900</td>\n",
       "      <td>454.938073</td>\n",
       "      <td>34.472</td>\n",
       "      <td>55</td>\n",
       "      <td>59.543448</td>\n",
       "      <td>26.618265</td>\n",
       "      <td>67.003811</td>\n",
       "      <td>6.377924</td>\n",
       "    </tr>\n",
       "    <tr>\n",
       "      <th>2</th>\n",
       "      <td>8812</td>\n",
       "      <td>14073</td>\n",
       "      <td>40.74</td>\n",
       "      <td>9053300</td>\n",
       "      <td>43641.397736</td>\n",
       "      <td>410.480591</td>\n",
       "      <td>92.501</td>\n",
       "      <td>82</td>\n",
       "      <td>100.000001</td>\n",
       "      <td>27.885572</td>\n",
       "      <td>59.905754</td>\n",
       "      <td>12.208674</td>\n",
       "    </tr>\n",
       "    <tr>\n",
       "      <th>3</th>\n",
       "      <td>123</td>\n",
       "      <td>137</td>\n",
       "      <td>43.52</td>\n",
       "      <td>69625582</td>\n",
       "      <td>7808.192916</td>\n",
       "      <td>135.897207</td>\n",
       "      <td>50.692</td>\n",
       "      <td>80</td>\n",
       "      <td>98.750735</td>\n",
       "      <td>16.823536</td>\n",
       "      <td>70.770213</td>\n",
       "      <td>12.406250</td>\n",
       "    </tr>\n",
       "    <tr>\n",
       "      <th>4</th>\n",
       "      <td>1277</td>\n",
       "      <td>151</td>\n",
       "      <td>43.52</td>\n",
       "      <td>11263077</td>\n",
       "      <td>754.587918</td>\n",
       "      <td>403.598549</td>\n",
       "      <td>56.192</td>\n",
       "      <td>49</td>\n",
       "      <td>34.704454</td>\n",
       "      <td>32.858587</td>\n",
       "      <td>62.077743</td>\n",
       "      <td>5.063670</td>\n",
       "    </tr>\n",
       "  </tbody>\n",
       "</table>\n",
       "</div>"
      ],
      "text/plain": [
       "   active  new_cases_feature  stringency_actual  population  gdp_per_capita  \\\n",
       "0    8513               6573              37.04     4974986    15474.032475   \n",
       "1  512665             910691              61.57  1366417754     2104.145900   \n",
       "2    8812              14073              40.74     9053300    43641.397736   \n",
       "3     123                137              43.52    69625582     7808.192916   \n",
       "4    1277                151              43.52    11263077      754.587918   \n",
       "\n",
       "   population_density  Urban_population  UHC_service_coverage_index  \\\n",
       "0           15.604145            85.443                          69   \n",
       "1          454.938073            34.472                          55   \n",
       "2          410.480591            92.501                          82   \n",
       "3          135.897207            50.692                          80   \n",
       "4          403.598549            56.192                          49   \n",
       "\n",
       "   basic_sanitation_services  Population_ages_0_to_14  \\\n",
       "0                  99.999999                22.418395   \n",
       "1                  59.543448                26.618265   \n",
       "2                 100.000001                27.885572   \n",
       "3                  98.750735                16.823536   \n",
       "4                  34.704454                32.858587   \n",
       "\n",
       "   Population_ages_15_to_64  Population_ages_65_and_over  \n",
       "0                 75.133015                     2.448590  \n",
       "1                 67.003811                     6.377924  \n",
       "2                 59.905754                    12.208674  \n",
       "3                 70.770213                    12.406250  \n",
       "4                 62.077743                     5.063670  "
      ]
     },
     "execution_count": 36,
     "metadata": {},
     "output_type": "execute_result"
    }
   ],
   "source": [
    "X_values.head()"
   ]
  },
  {
   "cell_type": "code",
   "execution_count": 38,
   "metadata": {},
   "outputs": [],
   "source": [
    "X_values_scaled = X_minmax.transform(X_values)"
   ]
  },
  {
   "cell_type": "code",
   "execution_count": 39,
   "metadata": {},
   "outputs": [
    {
     "data": {
      "text/plain": [
       "(149, 12)"
      ]
     },
     "execution_count": 39,
     "metadata": {},
     "output_type": "execute_result"
    }
   ],
   "source": [
    "X_values_scaled.shape"
   ]
  },
  {
   "cell_type": "code",
   "execution_count": 40,
   "metadata": {},
   "outputs": [],
   "source": [
    "prediction_scaled = regr.predict(X_values_scaled)"
   ]
  },
  {
   "cell_type": "code",
   "execution_count": 41,
   "metadata": {},
   "outputs": [
    {
     "data": {
      "text/plain": [
       "149"
      ]
     },
     "execution_count": 41,
     "metadata": {},
     "output_type": "execute_result"
    }
   ],
   "source": [
    "len(prediction_scaled)"
   ]
  },
  {
   "cell_type": "code",
   "execution_count": 42,
   "metadata": {},
   "outputs": [],
   "source": [
    "prediction = y_minmax.inverse_transform(prediction_scaled)"
   ]
  },
  {
   "cell_type": "code",
   "execution_count": 43,
   "metadata": {},
   "outputs": [
    {
     "data": {
      "text/plain": [
       "149"
      ]
     },
     "execution_count": 43,
     "metadata": {},
     "output_type": "execute_result"
    }
   ],
   "source": [
    "len(prediction)"
   ]
  },
  {
   "cell_type": "code",
   "execution_count": 45,
   "metadata": {},
   "outputs": [],
   "source": [
    "data_for_prediction[\"predicted\"] = prediction"
   ]
  },
  {
   "cell_type": "code",
   "execution_count": 46,
   "metadata": {},
   "outputs": [],
   "source": [
    "data_for_prediction.to_csv(\"predicted_values.csv\", index = False)"
   ]
  },
  {
   "cell_type": "code",
   "execution_count": null,
   "metadata": {},
   "outputs": [],
   "source": []
  }
 ],
 "metadata": {
  "kernelspec": {
   "display_name": "Python 3",
   "language": "python",
   "name": "python3"
  },
  "language_info": {
   "codemirror_mode": {
    "name": "ipython",
    "version": 3
   },
   "file_extension": ".py",
   "mimetype": "text/x-python",
   "name": "python",
   "nbconvert_exporter": "python",
   "pygments_lexer": "ipython3",
   "version": "3.6.10"
  }
 },
 "nbformat": 4,
 "nbformat_minor": 4
}
